{
  "nbformat": 4,
  "nbformat_minor": 0,
  "metadata": {
    "colab": {
      "provenance": []
    },
    "kernelspec": {
      "name": "python3",
      "display_name": "Python 3"
    },
    "language_info": {
      "name": "python"
    }
  },
  "cells": [
    {
      "cell_type": "code",
      "execution_count": 1,
      "metadata": {
        "id": "lGC8AlBeHk9K"
      },
      "outputs": [],
      "source": [
        "def soundex(word):\n",
        "    soundex = word[0]\n",
        "    for x in word[1:]:\n",
        "        if x in ['b', 'f', 'p', 'v']:\n",
        "            soundex += '1'\n",
        "        elif x in ['c', 'g', 'j', 'k', 'q', 's', 'x', 'z']:\n",
        "            soundex += '2'\n",
        "        elif x in ['d', 't']:\n",
        "            soundex += '3'\n",
        "        elif x in ['l']:\n",
        "            soundex += '4'\n",
        "        elif x in ['m', 'n']:\n",
        "            soundex += '5'\n",
        "        elif x in ['r']:\n",
        "            soundex += '6'\n",
        "    soundex = (soundex + '0000')[:4]\n",
        "\n",
        "    return soundex"
      ]
    }
  ]
}